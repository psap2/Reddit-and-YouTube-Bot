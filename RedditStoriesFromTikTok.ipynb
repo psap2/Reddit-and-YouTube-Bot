{
 "cells": [
  {
   "cell_type": "code",
   "execution_count": 1,
   "id": "810198c9-d488-478c-981b-8b435b012722",
   "metadata": {
    "tags": []
   },
   "outputs": [
    {
     "name": "stdout",
     "output_type": "stream",
     "text": [
      "Requirement already satisfied: TikTokApi in /Users/thakursapkota/anaconda3/lib/python3.11/site-packages (6.3.0)\n",
      "Requirement already satisfied: requests in /Users/thakursapkota/anaconda3/lib/python3.11/site-packages (from TikTokApi) (2.31.0)\n",
      "Requirement already satisfied: playwright in /Users/thakursapkota/anaconda3/lib/python3.11/site-packages (from TikTokApi) (1.43.0)\n",
      "Requirement already satisfied: greenlet==3.0.3 in /Users/thakursapkota/anaconda3/lib/python3.11/site-packages (from playwright->TikTokApi) (3.0.3)\n",
      "Requirement already satisfied: pyee==11.1.0 in /Users/thakursapkota/anaconda3/lib/python3.11/site-packages (from playwright->TikTokApi) (11.1.0)\n",
      "Requirement already satisfied: typing-extensions in /Users/thakursapkota/anaconda3/lib/python3.11/site-packages (from pyee==11.1.0->playwright->TikTokApi) (4.7.1)\n",
      "Requirement already satisfied: charset-normalizer<4,>=2 in /Users/thakursapkota/anaconda3/lib/python3.11/site-packages (from requests->TikTokApi) (2.0.4)\n",
      "Requirement already satisfied: idna<4,>=2.5 in /Users/thakursapkota/anaconda3/lib/python3.11/site-packages (from requests->TikTokApi) (3.4)\n",
      "Requirement already satisfied: urllib3<3,>=1.21.1 in /Users/thakursapkota/anaconda3/lib/python3.11/site-packages (from requests->TikTokApi) (1.26.16)\n",
      "Requirement already satisfied: certifi>=2017.4.17 in /Users/thakursapkota/anaconda3/lib/python3.11/site-packages (from requests->TikTokApi) (2023.11.17)\n",
      "Note: you may need to restart the kernel to use updated packages.\n"
     ]
    }
   ],
   "source": [
    "pip install TikTokApi"
   ]
  },
  {
   "cell_type": "code",
   "execution_count": 2,
   "id": "98c45ef9-5fdd-45d0-9baa-a4c3e79901b2",
   "metadata": {
    "tags": []
   },
   "outputs": [
    {
     "name": "stdout",
     "output_type": "stream",
     "text": [
      "Requirement already satisfied: playwright in /Users/thakursapkota/anaconda3/lib/python3.11/site-packages (1.43.0)\n",
      "Requirement already satisfied: greenlet==3.0.3 in /Users/thakursapkota/anaconda3/lib/python3.11/site-packages (from playwright) (3.0.3)\n",
      "Requirement already satisfied: pyee==11.1.0 in /Users/thakursapkota/anaconda3/lib/python3.11/site-packages (from playwright) (11.1.0)\n",
      "Requirement already satisfied: typing-extensions in /Users/thakursapkota/anaconda3/lib/python3.11/site-packages (from pyee==11.1.0->playwright) (4.7.1)\n",
      "Note: you may need to restart the kernel to use updated packages.\n"
     ]
    }
   ],
   "source": [
    "pip install playwright"
   ]
  },
  {
   "cell_type": "code",
   "execution_count": 15,
   "id": "ad9347b3-24a3-4e9c-a5a4-05a9851c7452",
   "metadata": {
    "tags": []
   },
   "outputs": [],
   "source": [
    "from TikTokApi import TikTokApi"
   ]
  },
  {
   "cell_type": "code",
   "execution_count": 2,
   "id": "0b874e93-81e3-47b7-a311-582214f90e67",
   "metadata": {
    "tags": []
   },
   "outputs": [
    {
     "ename": "NameError",
     "evalue": "name 'TikTokApi' is not defined",
     "output_type": "error",
     "traceback": [
      "\u001b[0;31m---------------------------------------------------------------------------\u001b[0m",
      "\u001b[0;31mNameError\u001b[0m                                 Traceback (most recent call last)",
      "Cell \u001b[0;32mIn[2], line 1\u001b[0m\n\u001b[0;32m----> 1\u001b[0m api \u001b[38;5;241m=\u001b[39m TikTokApi()\n",
      "\u001b[0;31mNameError\u001b[0m: name 'TikTokApi' is not defined"
     ]
    }
   ],
   "source": [
    "api = TikTokApi()"
   ]
  },
  {
   "cell_type": "code",
   "execution_count": null,
   "id": "e50f40ce-3f4c-44b5-9ec1-3599ecab6955",
   "metadata": {},
   "outputs": [],
   "source": []
  }
 ],
 "metadata": {
  "kernelspec": {
   "display_name": "Python 3 (ipykernel)",
   "language": "python",
   "name": "python3"
  },
  "language_info": {
   "codemirror_mode": {
    "name": "ipython",
    "version": 3
   },
   "file_extension": ".py",
   "mimetype": "text/x-python",
   "name": "python",
   "nbconvert_exporter": "python",
   "pygments_lexer": "ipython3",
   "version": "3.11.5"
  }
 },
 "nbformat": 4,
 "nbformat_minor": 5
}
